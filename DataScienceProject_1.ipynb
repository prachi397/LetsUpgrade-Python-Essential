{
  "nbformat": 4,
  "nbformat_minor": 0,
  "metadata": {
    "colab": {
      "name": "DataScienceProject-1.ipynb",
      "provenance": [],
      "authorship_tag": "ABX9TyNFL2XO2YrbFshpl4MqCduX",
      "include_colab_link": true
    },
    "kernelspec": {
      "name": "python3",
      "display_name": "Python 3"
    }
  },
  "cells": [
    {
      "cell_type": "markdown",
      "metadata": {
        "id": "view-in-github",
        "colab_type": "text"
      },
      "source": [
        "<a href=\"https://colab.research.google.com/github/prachi397/LetsUpgrade-Python-Essential/blob/master/DataScienceProject_1.ipynb\" target=\"_parent\"><img src=\"https://colab.research.google.com/assets/colab-badge.svg\" alt=\"Open In Colab\"/></a>"
      ]
    },
    {
      "cell_type": "code",
      "metadata": {
        "id": "Tjud8mg3qz0b"
      },
      "source": [
        "import pandas as pd\n",
        "import numpy as np\n",
        "import seaborn as sns\n",
        "import matplotlib.pyplot as plt"
      ],
      "execution_count": null,
      "outputs": []
    },
    {
      "cell_type": "markdown",
      "metadata": {
        "id": "l0lJgsPxq9h_"
      },
      "source": [
        "**Task-1**"
      ]
    },
    {
      "cell_type": "code",
      "metadata": {
        "id": "ErzrCxa3rAYo"
      },
      "source": [
        "# reading csv file using pandas\n",
        "df = pd.read_csv(\"pubg.csv\")\n",
        "print(df)"
      ],
      "execution_count": null,
      "outputs": []
    },
    {
      "cell_type": "markdown",
      "metadata": {
        "id": "W5anumaUv1Ll"
      },
      "source": [
        "**Task-2**"
      ]
    },
    {
      "cell_type": "code",
      "metadata": {
        "id": "uILNKuj0v55Q"
      },
      "source": [
        "# checking datatype of all columns\n",
        "data_type = df.dtypes\n",
        "data_type"
      ],
      "execution_count": null,
      "outputs": []
    },
    {
      "cell_type": "markdown",
      "metadata": {
        "id": "b3a054n71C45"
      },
      "source": [
        "**Task-3**"
      ]
    },
    {
      "cell_type": "code",
      "metadata": {
        "id": "V24VF3iv0_Yn"
      },
      "source": [
        "#Find the summary of all the numerical columns and write your findings about it.\n",
        "num_summary = df.describe()\n",
        "print(num_summary)"
      ],
      "execution_count": null,
      "outputs": []
    },
    {
      "cell_type": "markdown",
      "metadata": {
        "id": "BBEj97vI1L1Q"
      },
      "source": [
        "**Task-4**"
      ]
    },
    {
      "cell_type": "code",
      "metadata": {
        "id": "Glbn0v-71PUi"
      },
      "source": [
        "avg = df['kills'].mean()\n",
        "print(\"\\nThe average person kills :\", avg,\"player\")"
      ],
      "execution_count": null,
      "outputs": []
    },
    {
      "cell_type": "markdown",
      "metadata": {
        "id": "lriyNIQw1Po-"
      },
      "source": [
        "**Task-5**"
      ]
    },
    {
      "cell_type": "code",
      "metadata": {
        "id": "gGzvd56g1ViP"
      },
      "source": [
        "#99% of people have how many kills?\n",
        "nn_per = df[\"kills\"].quantile(0.99)\n",
        "print(\"\\n99% of people have\",nn_per,\"kills\")"
      ],
      "execution_count": null,
      "outputs": []
    },
    {
      "cell_type": "markdown",
      "metadata": {
        "id": "n-S-OueS2Dt1"
      },
      "source": [
        "**Task-6**"
      ]
    },
    {
      "cell_type": "code",
      "metadata": {
        "id": "XBb17p9m2Gas"
      },
      "source": [
        "most_kill = df[\"kills\"].max()\n",
        "print(\"\\nThe most kill ever recorded are :\",most_kill)"
      ],
      "execution_count": null,
      "outputs": []
    },
    {
      "cell_type": "markdown",
      "metadata": {
        "id": "vwLHYpMk2GsE"
      },
      "source": [
        "**Task-7**"
      ]
    },
    {
      "cell_type": "code",
      "metadata": {
        "id": "tALP8VRl2J9g"
      },
      "source": [
        "print(df.columns)"
      ],
      "execution_count": null,
      "outputs": []
    },
    {
      "cell_type": "markdown",
      "metadata": {
        "id": "g3tAvU9b2KO7"
      },
      "source": [
        "**Task-8**"
      ]
    },
    {
      "cell_type": "code",
      "metadata": {
        "id": "S66xDNTL2Nhp"
      },
      "source": [
        "sns.distplot( df['matchDuration'] );"
      ],
      "execution_count": null,
      "outputs": []
    },
    {
      "cell_type": "markdown",
      "metadata": {
        "id": "3bsdq-lw2N09"
      },
      "source": [
        "**Task-9**"
      ]
    },
    {
      "cell_type": "code",
      "metadata": {
        "id": "Pbwq_iaA2SGN"
      },
      "source": [
        "sns.distplot( df['walkDistance'] );"
      ],
      "execution_count": null,
      "outputs": []
    },
    {
      "cell_type": "markdown",
      "metadata": {
        "id": "TQFSqdak2Sjf"
      },
      "source": [
        "**Task-10**"
      ]
    },
    {
      "cell_type": "code",
      "metadata": {
        "id": "GSsSu9zp2VQh"
      },
      "source": [
        "%matplotlib inline\n",
        "plt.style.use('classic')\n",
        "plt.figure()\n",
        "\n",
        "# ploting for matchDuration\n",
        "plt.subplot(2,1,1)\n",
        "plt.plot(df[\"matchDuration\"],\"-\")\n",
        "plt.xlabel(\"Match Duration\")\n",
        "\n",
        "# ploting for walkDistance\n",
        "plt.subplot(2,1,2)\n",
        "plt.plot(df[\"walkDistance\"],\"--\")\n",
        "plt.xlabel(\"Walk Distance\")"
      ],
      "execution_count": null,
      "outputs": []
    }
  ]
}