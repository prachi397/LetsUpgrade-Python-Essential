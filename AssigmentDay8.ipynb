{
  "nbformat": 4,
  "nbformat_minor": 0,
  "metadata": {
    "colab": {
      "name": "AssigmentDay8.ipynb",
      "provenance": [],
      "mount_file_id": "1UAzYqm3PbiRdDoI4vKL1HzKPCfC-4Sss",
      "authorship_tag": "ABX9TyNjrR7lIHCbWRk+QfqmpLbv",
      "include_colab_link": true
    },
    "kernelspec": {
      "name": "python3",
      "display_name": "Python 3"
    }
  },
  "cells": [
    {
      "cell_type": "markdown",
      "metadata": {
        "id": "view-in-github",
        "colab_type": "text"
      },
      "source": [
        "<a href=\"https://colab.research.google.com/github/prachi397/LetsUpgrade-Python-Essential/blob/master/AssigmentDay8.ipynb\" target=\"_parent\"><img src=\"https://colab.research.google.com/assets/colab-badge.svg\" alt=\"Open In Colab\"/></a>"
      ]
    },
    {
      "cell_type": "markdown",
      "metadata": {
        "id": "zPpGygPc2LOr",
        "colab_type": "text"
      },
      "source": [
        "**Question-1**"
      ]
    },
    {
      "cell_type": "code",
      "metadata": {
        "id": "jK1oJgYD2RZj",
        "colab_type": "code",
        "colab": {}
      },
      "source": [
        "def some_function(function_which_needs_wrap):\n",
        "  def wrap_function():\n",
        "    n=int(input(\"enter the number\"))\n",
        "    print(\"hey here is the code of odd_even\")\n",
        "    if n%2==0:\n",
        "      print(\"number is even\")\n",
        "    else:\n",
        "      print(\"number is odd\")\n",
        "    function_which_needs_wrap()\n",
        "  return wrap_function()\n",
        "def prime():\n",
        "  num = int(input(\"enter the number\"))\n",
        "  if num>1:\n",
        "    for i in range(2,num):\n",
        "      if (num % i!= 0):\n",
        "        print(\"number is  prime\")\n",
        "        break\n",
        "      else:\n",
        "        print(\"number is not prime\")\n",
        "  else:\n",
        "    print(\"number can not be prime\")\n",
        "final_result = some_function(prime)\n",
        "final_result()"
      ],
      "execution_count": null,
      "outputs": []
    },
    {
      "cell_type": "markdown",
      "metadata": {
        "id": "moQaSksD67iQ",
        "colab_type": "text"
      },
      "source": [
        "**Question-2**"
      ]
    },
    {
      "cell_type": "code",
      "metadata": {
        "id": "RgBo_y8w6-dA",
        "colab_type": "code",
        "colab": {
          "base_uri": "https://localhost:8080/",
          "height": 51
        },
        "outputId": "bd9955ad-9978-47df-fea4-a4eea8ff6f5a"
      },
      "source": [
        "try:\n",
        "  file = open(\"/content/drive/My Drive/animals.txt\",\"r\")\n",
        "  file.write(\"hey this prachi panwar\")\n",
        "  file.close()\n",
        "  print(\"success\")\n",
        "except Exception as e:\n",
        "  print(e)\n",
        "finally:\n",
        "  print(\"hey i will execute my file\")"
      ],
      "execution_count": 11,
      "outputs": [
        {
          "output_type": "stream",
          "text": [
            "not writable\n",
            "hey i will execute my file\n"
          ],
          "name": "stdout"
        }
      ]
    }
  ]
}