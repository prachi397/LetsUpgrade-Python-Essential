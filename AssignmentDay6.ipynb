{
  "nbformat": 4,
  "nbformat_minor": 0,
  "metadata": {
    "colab": {
      "name": "AssignmentDay6.ipynb",
      "provenance": [],
      "authorship_tag": "ABX9TyPuQTOGQLVX/KuHp/9kKsxC",
      "include_colab_link": true
    },
    "kernelspec": {
      "name": "python3",
      "display_name": "Python 3"
    }
  },
  "cells": [
    {
      "cell_type": "markdown",
      "metadata": {
        "id": "view-in-github",
        "colab_type": "text"
      },
      "source": [
        "<a href=\"https://colab.research.google.com/github/prachi397/LetsUpgrade-Python-Essential/blob/master/AssignmentDay6.ipynb\" target=\"_parent\"><img src=\"https://colab.research.google.com/assets/colab-badge.svg\" alt=\"Open In Colab\"/></a>"
      ]
    },
    {
      "cell_type": "markdown",
      "metadata": {
        "id": "_lj8sgBQNe-W",
        "colab_type": "text"
      },
      "source": [
        "**Question-1**"
      ]
    },
    {
      "cell_type": "code",
      "metadata": {
        "id": "HTkMvz4CNikA",
        "colab_type": "code",
        "colab": {
          "base_uri": "https://localhost:8080/",
          "height": 153
        },
        "outputId": "bf2bdd7a-08e9-4428-be14-6e80b3e2bb86"
      },
      "source": [
        "class bankAccount():\n",
        "  def __init__(self,name,balance):\n",
        "    self.name = name\n",
        "    self.balance = balance\n",
        "  def deposite(self,amount):\n",
        "    if(amount<1):\n",
        "      print(\"deposite failed: Invalid amount\")\n",
        "    else:\n",
        "      self.balance+=amount\n",
        "      print(self.name,\"successfully deposite Rs:\",amount)\n",
        "      print(\"Account balance:\",self.balance)\n",
        "  def withdraw(self,amount):\n",
        "    if(amount>self.balance):\n",
        "      print(\"can't withdraw: Insufficient balance\")\n",
        "    elif(amount<1):\n",
        "      print(\"can't withdraw: Invalid amount\")\n",
        "    elif(amount<=self.balance):\n",
        "      self.balance-=amount\n",
        "      print(self.name,\"successfully withdraw Rs:\",amount)\n",
        "      print(\"account balance\",self.balance)\n",
        "a = bankAccount(\"prachi\",55000)\n",
        "a.deposite(2000)\n",
        "a.withdraw(50000)\n",
        "a.withdraw(7000)\n",
        "a.deposite(10000)\n",
        "\n"
      ],
      "execution_count": 3,
      "outputs": [
        {
          "output_type": "stream",
          "text": [
            "prachi successfully deposite Rs: 2000\n",
            "Account balance: 57000\n",
            "prachi successfully withdraw Rs: 50000\n",
            "account balance 7000\n",
            "prachi successfully withdraw Rs: 7000\n",
            "account balance 0\n",
            "prachi successfully deposite Rs: 10000\n",
            "Account balance: 10000\n"
          ],
          "name": "stdout"
        }
      ]
    },
    {
      "cell_type": "markdown",
      "metadata": {
        "id": "3DSiw0ydzw9q",
        "colab_type": "text"
      },
      "source": [
        "**Question-2**"
      ]
    },
    {
      "cell_type": "code",
      "metadata": {
        "id": "6aqm36BX0BXG",
        "colab_type": "code",
        "colab": {
          "base_uri": "https://localhost:8080/",
          "height": 34
        },
        "outputId": "bd0a3f85-c089-4784-cc68-7fd733bb9877"
      },
      "source": [
        "class cone:\n",
        "  def __init__(self,radius,height):\n",
        "    self.height = height\n",
        "    self.radius = radius\n",
        "  def volume(self):\n",
        "    vol = 3.14*(self.radius**2)*(self.height/3)\n",
        "    return vol\n",
        "  def surfaceArea(self):\n",
        "    sur = (3.14*self.radius)*(self.radius+(((self.height**2)+(self.radius**2))**0.5))\n",
        "    return sur\n",
        "C = cone(5,9)\n",
        "C.volume()\n"
      ],
      "execution_count": 11,
      "outputs": [
        {
          "output_type": "execute_result",
          "data": {
            "text/plain": [
              "235.5"
            ]
          },
          "metadata": {
            "tags": []
          },
          "execution_count": 11
        }
      ]
    },
    {
      "cell_type": "code",
      "metadata": {
        "id": "Ie4JauL62gxZ",
        "colab_type": "code",
        "colab": {
          "base_uri": "https://localhost:8080/",
          "height": 34
        },
        "outputId": "873735df-2db5-48ae-98c6-3e345dffeb0f"
      },
      "source": [
        "C.surfaceArea()"
      ],
      "execution_count": 12,
      "outputs": [
        {
          "output_type": "execute_result",
          "data": {
            "text/plain": [
              "240.14139321349592"
            ]
          },
          "metadata": {
            "tags": []
          },
          "execution_count": 12
        }
      ]
    }
  ]
}