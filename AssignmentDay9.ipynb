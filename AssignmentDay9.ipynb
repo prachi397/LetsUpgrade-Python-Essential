{
  "nbformat": 4,
  "nbformat_minor": 0,
  "metadata": {
    "colab": {
      "name": "AssignmentDay9.ipynb",
      "provenance": [],
      "authorship_tag": "ABX9TyNcg9+ZVGs4Mp8Nyi7XvP4w",
      "include_colab_link": true
    },
    "kernelspec": {
      "name": "python3",
      "display_name": "Python 3"
    }
  },
  "cells": [
    {
      "cell_type": "markdown",
      "metadata": {
        "id": "view-in-github",
        "colab_type": "text"
      },
      "source": [
        "<a href=\"https://colab.research.google.com/github/prachi397/LetsUpgrade-Python-Essential/blob/master/AssignmentDay9.ipynb\" target=\"_parent\"><img src=\"https://colab.research.google.com/assets/colab-badge.svg\" alt=\"Open In Colab\"/></a>"
      ]
    },
    {
      "cell_type": "markdown",
      "metadata": {
        "id": "4bUgvMZ8HK3J",
        "colab_type": "text"
      },
      "source": [
        "**Question-1**"
      ]
    },
    {
      "cell_type": "code",
      "metadata": {
        "id": "CAgqV3imHOTB",
        "colab_type": "code",
        "colab": {
          "base_uri": "https://localhost:8080/",
          "height": 34
        },
        "outputId": "a7eff188-d3fb-4380-9dba-d3f12d32dd19"
      },
      "source": [
        "%%writefile prime_number.py\n",
        "'''\n",
        "this is a simple code\n",
        "'''\n",
        "def prime( number ):\n",
        "    '''\n",
        "    Hey this is simple function of prime number\n",
        "    '''\n",
        "    if number <= 1:\n",
        "        return False\n",
        "    for i in range(2, number):\n",
        "        if number % i == 0:\n",
        "            return False\n",
        "    return True\n",
        "prime(5)\n",
        "print(\"\\n\")\n"
      ],
      "execution_count": null,
      "outputs": [
        {
          "output_type": "stream",
          "text": [
            "Overwriting prime_number.py\n"
          ],
          "name": "stdout"
        }
      ]
    },
    {
      "cell_type": "code",
      "metadata": {
        "id": "jGKB8kXEO0UI",
        "colab_type": "code",
        "colab": {
          "base_uri": "https://localhost:8080/",
          "height": 119
        },
        "outputId": "4fab0876-79ce-4045-e759-cd2cf1e07a20"
      },
      "source": [
        "!pylint \"prime_number.py\""
      ],
      "execution_count": null,
      "outputs": [
        {
          "output_type": "stream",
          "text": [
            "************* Module prime_number\n",
            "prime_number.py:15:0: C0304: Final newline missing (missing-final-newline)\n",
            "\n",
            "------------------------------------------------------------------\n",
            "Your code has been rated at 8.89/10 (previous run: 8.89/10, +0.00)\n",
            "\n"
          ],
          "name": "stdout"
        }
      ]
    },
    {
      "cell_type": "markdown",
      "metadata": {
        "id": "J-m71gOISSAT",
        "colab_type": "text"
      },
      "source": [
        "**Question-2**"
      ]
    },
    {
      "cell_type": "code",
      "metadata": {
        "id": "C9tcyuojSedH",
        "colab_type": "code",
        "colab": {
          "base_uri": "https://localhost:8080/",
          "height": 34
        },
        "outputId": "a969e0e2-59ad-4c71-ded8-b33cf5523f71"
      },
      "source": [
        "def ArmstrongGen(a,b):\n",
        "  for n in range(a,b+1):\n",
        "    order = len(str(n))\n",
        "    sum=0\n",
        "    temp=n\n",
        "    while temp>0:\n",
        "      digit=temp%10\n",
        "      sum+=digit**order\n",
        "      temp//=10\n",
        "    if n == sum:\n",
        "      yield n\n",
        "print(list(ArmstrongGen(1,1000)))\n",
        "  \n"
      ],
      "execution_count": null,
      "outputs": [
        {
          "output_type": "stream",
          "text": [
            "[1, 2, 3, 4, 5, 6, 7, 8, 9, 153, 370, 371, 407]\n"
          ],
          "name": "stdout"
        }
      ]
    }
  ]
}