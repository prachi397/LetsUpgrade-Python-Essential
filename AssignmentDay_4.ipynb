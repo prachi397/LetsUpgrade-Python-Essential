{
  "nbformat": 4,
  "nbformat_minor": 0,
  "metadata": {
    "colab": {
      "name": "AssignmentDay-4.ipynb",
      "provenance": [],
      "collapsed_sections": [],
      "authorship_tag": "ABX9TyNXFUthOy7nfxEKze8cGUdt",
      "include_colab_link": true
    },
    "kernelspec": {
      "name": "python3",
      "display_name": "Python 3"
    }
  },
  "cells": [
    {
      "cell_type": "markdown",
      "metadata": {
        "id": "view-in-github",
        "colab_type": "text"
      },
      "source": [
        "<a href=\"https://colab.research.google.com/github/prachi397/LetsUpgrade-Python-Essential/blob/master/AssignmentDay_4.ipynb\" target=\"_parent\"><img src=\"https://colab.research.google.com/assets/colab-badge.svg\" alt=\"Open In Colab\"/></a>"
      ]
    },
    {
      "cell_type": "markdown",
      "metadata": {
        "id": "cChXfatXa8JB",
        "colab_type": "text"
      },
      "source": [
        "**Print the first armstrong number in the range of 1042000 to 702648265 and exit the loop as soon as you encounter the first armstrong number**"
      ]
    },
    {
      "cell_type": "code",
      "metadata": {
        "id": "nKmiIDHVbZiw",
        "colab_type": "code",
        "colab": {}
      },
      "source": [
        "for num in range(1042000,702648266):\n",
        "  temp=num\n",
        "  sum=0\n",
        "  while temp>0:\n",
        "    digit=temp%10\n",
        "    sum+=digit**3\n",
        "    temp=temp//10\n",
        "    if sum==num:\n",
        "      print(num)\n",
        "      break\n"
      ],
      "execution_count": null,
      "outputs": []
    },
    {
      "cell_type": "markdown",
      "metadata": {
        "id": "aeygmd1fGkoI",
        "colab_type": "text"
      },
      "source": [
        ""
      ]
    }
  ]
}